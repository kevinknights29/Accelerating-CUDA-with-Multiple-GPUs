{
 "cells": [
  {
   "cell_type": "markdown",
   "metadata": {},
   "source": [
    "<h1 style=\"color:#65AE11;\">Single Node Multi-GPU Programming for CUDA C++ Applications</h1>"
   ]
  },
  {
   "cell_type": "markdown",
   "metadata": {},
   "source": [
    "Congratulations on your work in this challenging workshop."
   ]
  },
  {
   "cell_type": "markdown",
   "metadata": {},
   "source": [
    "<h2 style=\"color:#65AE11;\">Overview</h2>"
   ]
  },
  {
   "cell_type": "markdown",
   "metadata": {},
   "source": [
    "In this workshop you:\n",
    "* Learned about CUDA streams\n",
    "* Learned how to use non-default streams to perform copy/compute overlap\n",
    "* Learned how to utilize all available GPUs on this node\n",
    "* Learned how to perform copy/compute overlap on multiple GPUs\n",
    "* Successfully refactored a CUDA C++ application to utilize copy/compute overlap on multiple GPUs\n",
    "* Observed the effects of your work in the Nsight Systems visual profiler"
   ]
  },
  {
   "cell_type": "markdown",
   "metadata": {},
   "source": [
    "<h2 style=\"color:#65AE11;\">Course Survey</h2>"
   ]
  },
  {
   "cell_type": "markdown",
   "metadata": {},
   "source": [
    "We really appreciate the time, interest, and effort you put into this workshop. Please help future students have an excellent experience by completing [the course survey](https://courses.nvidia.com/courses/course-v1:DLI+C-AC-04+V1/courseware/85f2a3ac16a0476685257996b84001ad/8199a99f2e204a0aa8b005966aa3a928/1?activate_block_id=block-v1%3ADLI%2BC-AC-04%2BV1%2Btype%40vertical%2Bblock%40562b120af5274ab6a7b92edd594f9064)."
   ]
  },
  {
   "cell_type": "markdown",
   "metadata": {},
   "source": [
    "<h2 style=\"color:#65AE11;\">Next</h2>"
   ]
  },
  {
   "cell_type": "markdown",
   "metadata": {},
   "source": [
    "For those of you who are interested in earning a __*Certificate of Competency*__ in the workshop, please continue on to [the workshop assessment](https://courses.nvidia.com/courses/course-v1:DLI+C-AC-04+V1/courseware/85f2a3ac16a0476685257996b84001ad/8f242bc0189c4c77966fcc3274094b9e/1?activate_block_id=block-v1%3ADLI%2BC-AC-04%2BV1%2Btype%40vertical%2Bblock%40d4cd46b1f5a648a59e0494837080d444)."
   ]
  }
 ],
 "metadata": {
  "kernelspec": {
   "display_name": "Python 3 (ipykernel)",
   "language": "python",
   "name": "python3"
  },
  "language_info": {
   "codemirror_mode": {
    "name": "ipython",
    "version": 3
   },
   "file_extension": ".py",
   "mimetype": "text/x-python",
   "name": "python",
   "nbconvert_exporter": "python",
   "pygments_lexer": "ipython3",
   "version": "3.13.5"
  }
 },
 "nbformat": 4,
 "nbformat_minor": 4
}
